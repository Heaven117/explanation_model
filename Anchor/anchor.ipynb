{
 "cells": [
  {
   "cell_type": "code",
   "execution_count": 6,
   "metadata": {},
   "outputs": [],
   "source": [
    "import numpy as np\n",
    "import os\n",
    "import sys\n",
    "sys.path.append('../')\n",
    "\n",
    "from svm.data_process import load_data, loader_data\n",
    "from anchor import anchor_tabular\n",
    "from utils import get_default_config,ft_names\n",
    "from svm.run_model import test,load_model"
   ]
  },
  {
   "cell_type": "code",
   "execution_count": 3,
   "metadata": {},
   "outputs": [],
   "source": [
    "filename = '../data/FICO_final_data.csv'\n",
    "train_loader,test_loader= loader_data(filename =filename)\n",
    "save_path = '../data/svm_FICO_100.pth'\n",
    "if(os.path.exists(save_path)):\n",
    "    model = load_model(save_path)\n",
    "else:\n",
    "    print(\"Train Model First\")"
   ]
  },
  {
   "cell_type": "code",
   "execution_count": 5,
   "metadata": {},
   "outputs": [
    {
     "name": "stdout",
     "output_type": "stream",
     "text": [
      "Anchor 0: External Risk Estimate <= -0.82 AND % Trades Never Delq. <= -0.29\n",
      "Precision: 0.98\n",
      "Coverage: 0.15\n"
     ]
    }
   ],
   "source": [
    "idx = 0\n",
    "# data_set = train_loader.dataset.data['X'].cpu().numpy()\n",
    "# x_sample, y_sample = train_loader.dataset[idx]\n",
    "X_train,X_test,y_train,y_test = load_data(filename)\n",
    "x_sample1 = X_train[idx]\n",
    "\n",
    "# explainer = anchor_tabular.AnchorTabularExplainer([0,1], ft_names, data_set, categorical_names = {})\n",
    "explainer1 = anchor_tabular.AnchorTabularExplainer([0,1], ft_names, X_train, categorical_names = {})\n",
    "# explainer.fit(X_train.values, y_train, X_val.values, y_val, discretizer='quartile')\n",
    "\n",
    "# decision = model.pred(x_sample)\n",
    "# if decision < 0 :\n",
    "#     decision = 0\n",
    "# else:\n",
    "#     decision = 1\n",
    "# print('Prediction: ', explainer.class_names[decision])\n",
    "# exp = explainer.explain_instance(x_sample.detach().numpy(), model.pred_numpy, threshold=0.95)\n",
    "exp = explainer1.explain_instance(x_sample1, model.pred_numpy, threshold=0.95)\n",
    "\n",
    "print('Anchor %d: %s' % (idx,' AND '.join(exp.names())))\n",
    "print('Precision: %.2f' % exp.precision())\n",
    "print('Coverage: %.2f' % exp.coverage())"
   ]
  },
  {
   "cell_type": "code",
   "execution_count": 9,
   "metadata": {},
   "outputs": [
    {
     "name": "stdout",
     "output_type": "stream",
     "text": [
      "[ True False False ... False False False]\n",
      "Anchor test precision: 1.00\n",
      "Anchor test coverage: 0.00\n"
     ]
    }
   ],
   "source": [
    "# Get test examples where the anchora pplies\n",
    "fit_anchor = np.where(np.all(X_test[:, exp.features()] == X_test[idx][exp.features()], axis=1))[0]\n",
    "print('Anchor test precision: %.2f' % (np.mean(model.pred_numpy(X_test[fit_anchor]) == model.pred_numpy(X_test[idx].reshape(1, -1)))))\n",
    "print('Anchor test coverage: %.2f' % (fit_anchor.shape[0] / float(X_test.shape[0])))"
   ]
  }
 ],
 "metadata": {
  "kernelspec": {
   "display_name": "anchor",
   "language": "python",
   "name": "python3"
  },
  "language_info": {
   "codemirror_mode": {
    "name": "ipython",
    "version": 3
   },
   "file_extension": ".py",
   "mimetype": "text/x-python",
   "name": "python",
   "nbconvert_exporter": "python",
   "pygments_lexer": "ipython3",
   "version": "3.9.16"
  },
  "orig_nbformat": 4,
  "vscode": {
   "interpreter": {
    "hash": "a558bc960650bc89dbf0ca0258e6fa3cc04e609ae72577947c21432921973293"
   }
  }
 },
 "nbformat": 4,
 "nbformat_minor": 2
}
